{
 "cells": [
  {
   "cell_type": "code",
   "execution_count": 1,
   "id": "392f460a-9a2e-458f-ab2a-84b09279b900",
   "metadata": {},
   "outputs": [],
   "source": [
    "import h3.api.numpy_int as h3"
   ]
  },
  {
   "cell_type": "code",
   "execution_count": 2,
   "id": "a2433132-15d0-45a5-b379-ce2b2aad953a",
   "metadata": {},
   "outputs": [
    {
     "data": {
      "text/plain": [
       "1027"
      ]
     },
     "execution_count": 2,
     "metadata": {},
     "output_type": "execute_result"
    }
   ],
   "source": [
    "res = 9\n",
    "k = 18\n",
    "\n",
    "c = h3.latlng_to_cell(0,0,res)\n",
    "cells = h3.grid_disk(c, k)\n",
    "len(cells)"
   ]
  },
  {
   "cell_type": "code",
   "execution_count": 3,
   "id": "fa29952a-30bc-4fae-b023-f4b9a3e1b067",
   "metadata": {},
   "outputs": [],
   "source": [
    "import h3_test_pb2"
   ]
  },
  {
   "cell_type": "code",
   "execution_count": 10,
   "id": "276a6b82-5e8b-44e2-b70b-861bbf3ced66",
   "metadata": {},
   "outputs": [
    {
     "data": {
      "text/plain": [
       "12324"
      ]
     },
     "execution_count": 10,
     "metadata": {},
     "output_type": "execute_result"
    }
   ],
   "source": [
    "cell_array = h3_test_pb2.H3CellArray()\n",
    "\n",
    "for c in cells:\n",
    "    cell_array.cell.add().index = c\n",
    "\n",
    "a = cell_array.ByteSize()\n",
    "a"
   ]
  },
  {
   "cell_type": "code",
   "execution_count": 13,
   "id": "2218fd38-a2f1-4b1f-aa21-85b10b0546dd",
   "metadata": {},
   "outputs": [
    {
     "data": {
      "text/plain": [
       "9246"
      ]
     },
     "execution_count": 13,
     "metadata": {},
     "output_type": "execute_result"
    }
   ],
   "source": [
    "int_array = h3_test_pb2.IntArray()\n",
    "int_array.cell.extend(cells)\n",
    "b = int_array.ByteSize()\n",
    "b"
   ]
  },
  {
   "cell_type": "code",
   "execution_count": 14,
   "id": "6ff12802-99dc-4c81-8ae6-21a9c5573b00",
   "metadata": {},
   "outputs": [
    {
     "data": {
      "text/plain": [
       "1.3329007138221933"
      ]
     },
     "execution_count": 14,
     "metadata": {},
     "output_type": "execute_result"
    }
   ],
   "source": [
    "a/b"
   ]
  },
  {
   "cell_type": "code",
   "execution_count": null,
   "id": "942c23ea-9401-4d58-be2b-3b77de107526",
   "metadata": {},
   "outputs": [],
   "source": []
  }
 ],
 "metadata": {
  "kernelspec": {
   "display_name": "Python 3 (ipykernel)",
   "language": "python",
   "name": "python3"
  },
  "language_info": {
   "codemirror_mode": {
    "name": "ipython",
    "version": 3
   },
   "file_extension": ".py",
   "mimetype": "text/x-python",
   "name": "python",
   "nbconvert_exporter": "python",
   "pygments_lexer": "ipython3",
   "version": "3.12.2"
  }
 },
 "nbformat": 4,
 "nbformat_minor": 5
}
